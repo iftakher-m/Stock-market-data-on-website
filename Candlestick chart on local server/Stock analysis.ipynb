{
 "cells": [
  {
   "cell_type": "raw",
   "metadata": {},
   "source": [
    "pip install pandas_datareader\n"
   ]
  },
  {
   "cell_type": "code",
   "execution_count": 12,
   "metadata": {},
   "outputs": [],
   "source": [
    "from pandas_datareader import data\n",
    "import datetime\n",
    "from bokeh.plotting import figure, show, output_file\n",
    "from bokeh.embed import components\n",
    "from bokeh.resources import CDN # 'CDN' --> content delivery network, will grab the contents(js,css) to later used in flask. \n",
    "\n",
    "start_time= datetime.datetime(2015,11,2)\n",
    "end_time= datetime.datetime(2016,3,10)\n",
    "\n",
    "df=data.DataReader(name=\"GOOG\",data_source=\"yahoo\",start=start_time, end=end_time) # AAPL is the stock symbol of apple, other company info can be found online\n",
    "\n",
    "\n",
    "# df.index\n",
    "\n",
    "# df.Open \n",
    "#df['Open']\n",
    "# days_increased= df.index[df.Close> df.Open]\n",
    "# days_decreased= df.index[df.Close< df.Open]\n",
    "\n",
    "\n",
    "def incr_decr(cl, op):\n",
    "    if cl> op:\n",
    "        value= \"Increase\"\n",
    "    elif cl<op:\n",
    "        value= \"Decrease\"\n",
    "    else:\n",
    "        value= \"Equal\"\n",
    "        \n",
    "    return value\n",
    "    \n",
    "df[\"Status\"]= [incr_decr(cl, op) for cl,op in zip(df.Close, df.Open)]\n",
    "df[\"Middle\"]= (df.Open+ df.Close)/2\n",
    "df[\"Height\"]= abs(df.Open-df.Close)\n",
    "\n",
    "\n",
    "\n",
    "p=figure(x_axis_type=\"datetime\", width=800, height=500, sizing_mode= \"stretch_both\", title= \"Candlestick chart\") # sizing_mode is used for making it responsive.\n",
    "p.grid.grid_line_alpha= 0.5\n",
    "\n",
    "hours_12 = 12*60*60*1000 # converting 12 hours in milliseconds, as 12 h will be the width of the rect and it accepts only ms.\n",
    "\n",
    "p.segment(df.index, df.High, df.index, df.Low, color= \"#4c4d4c\" ) # segment has 4 parament, highest x, higest y, lowest x, lowest y\n",
    "# and we don't have to filter/specify anything as segments will be same for every row.\n",
    "# As these are vertical segments, high x and low x are both the same --> df.index\n",
    "\n",
    "p.rect(df.index[df.Status== \"Increase\"], df.Middle[df.Status== \"Increase\"], hours_12, df.Height[df.Status== \"Increase\"], fill_color=\"#33a6cc\", line_color=\"#4fb7e3\")\n",
    " # here we have to use 'rect', as it will take to the center of the graph, incase of 'quad' method the position will be 6h right and left shifted(thats how candlestick chart works) and we have to subtract 6h to bring it the center. # here we have to use 'rect',\n",
    "# as it will take to the center of the graph, incase of 'quad' method the position will be 6h right and left shifted(thats how candlestick chart works) and we have to subtract 6h to bring it the center.\n",
    "# df.index[df.Close> df.Open] --> This is indicating to the x coordinate of the center of the rectangle\n",
    "# (df.Open+ df.Close)/2 --> y coordingate\n",
    "# abs(df.Open-df.Close) ---> height of the rect\n",
    "\n",
    "p.rect(df.index[df.Status== \"Decrease\"], df.Middle[df.Status== \"Decrease\"], hours_12, df.Height[df.Status== \"Decrease\"], fill_color=\"#e0435b\", line_color=\"#eb3854\")\n",
    "\n",
    "# type(components(p))\n",
    "\n",
    "script1, div1 = components(p)"
   ]
  },
  {
   "cell_type": "code",
   "execution_count": 17,
   "metadata": {},
   "outputs": [],
   "source": [
    "# script1\n",
    "# div1\n",
    "\n",
    "cdn_js= CDN.js_files\n",
    "# cdn_css= CDN.css_files --> css files are no longer required to to grab as js can do the job single handedly.\n",
    "\n"
   ]
  },
  {
   "cell_type": "code",
   "execution_count": 18,
   "metadata": {},
   "outputs": [
    {
     "data": {
      "text/plain": [
       "'https://cdn.pydata.org/bokeh/release/bokeh-1.3.4.min.js'"
      ]
     },
     "execution_count": 18,
     "metadata": {},
     "output_type": "execute_result"
    }
   ],
   "source": [
    "cdn_js[0] # for this project, we need the first item off the list that has 3 js files in total"
   ]
  },
  {
   "cell_type": "code",
   "execution_count": 19,
   "metadata": {},
   "outputs": [
    {
     "data": {
      "text/plain": [
       "[]"
      ]
     },
     "execution_count": 19,
     "metadata": {},
     "output_type": "execute_result"
    }
   ],
   "source": [
    "cdn_css"
   ]
  },
  {
   "cell_type": "code",
   "execution_count": 132,
   "metadata": {},
   "outputs": [],
   "source": [
    "\n",
    "output_file(\"Candlestick.html\")\n",
    "show(p)"
   ]
  }
 ],
 "metadata": {
  "kernelspec": {
   "display_name": "Python 3",
   "language": "python",
   "name": "python3"
  },
  "language_info": {
   "codemirror_mode": {
    "name": "ipython",
    "version": 3
   },
   "file_extension": ".py",
   "mimetype": "text/x-python",
   "name": "python",
   "nbconvert_exporter": "python",
   "pygments_lexer": "ipython3",
   "version": "3.7.1"
  }
 },
 "nbformat": 4,
 "nbformat_minor": 2
}
